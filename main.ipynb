{
 "cells": [
  {
   "cell_type": "code",
   "execution_count": null,
   "metadata": {},
   "outputs": [],
   "source": [
    "import pandas as pd\n",
    "import glob\n",
    "import os\n",
    "from sklearn.model_selection import train_test_split\n",
    "import shutil \n",
    "import cv2\n",
    "import os"
   ]
  },
  {
   "cell_type": "markdown",
   "metadata": {},
   "source": [
    "### Разделение датасета на train valid"
   ]
  },
  {
   "cell_type": "code",
   "execution_count": null,
   "metadata": {},
   "outputs": [],
   "source": [
    "df = pd.read_csv('./data/labels.csv')"
   ]
  },
  {
   "cell_type": "code",
   "execution_count": null,
   "metadata": {},
   "outputs": [],
   "source": [
    "df_value_counts = df['image'].value_counts() \n",
    "df_images = pd.DataFrame({'filename':list(df_value_counts.index),'count': list(df_value_counts)})"
   ]
  },
  {
   "cell_type": "code",
   "execution_count": null,
   "metadata": {},
   "outputs": [],
   "source": [
    "# загружаем картинки без аннотации\n",
    "images_without_car = list(set([os.path.basename(path) for path in glob.glob('./data/images/*.*')]).difference(set(df_images['filename'].to_list())))\n",
    "df_images = pd.concat([df_images, pd.DataFrame({'filename':images_without_car, 'count':[0]*len(images_without_car)})])"
   ]
  },
  {
   "cell_type": "code",
   "execution_count": null,
   "metadata": {},
   "outputs": [],
   "source": [
    "# нужно для корректной работы train_test_split\n",
    "df_images['count'] = df_images['count'].apply(lambda c : 5 if c>5   else c )"
   ]
  },
  {
   "cell_type": "code",
   "execution_count": null,
   "metadata": {},
   "outputs": [],
   "source": [
    " \n",
    "os.chdir('./data/images')"
   ]
  },
  {
   "cell_type": "code",
   "execution_count": null,
   "metadata": {},
   "outputs": [],
   "source": [
    "\n",
    "#убираем ломаные изображения \n",
    "def check_image(path):\n",
    "    try:\n",
    "        cv2.imread(path).shape\n",
    "        return True\n",
    "    except Exception :\n",
    "        return False\n",
    "df_images = df_images[df_images['filename'].apply(lambda filename :check_image(filename) )]"
   ]
  },
  {
   "cell_type": "code",
   "execution_count": null,
   "metadata": {},
   "outputs": [],
   "source": [
    "df_train, df_valid =  train_test_split(df_images, test_size=0.3, stratify=df_images['count'].values )"
   ]
  },
  {
   "cell_type": "code",
   "execution_count": null,
   "metadata": {},
   "outputs": [],
   "source": [
    "for i,row in df_train.iterrows():\n",
    "    shutil.copyfile(row['filename'], os.path.join('../yolo_dataset/train/images', row['filename']))"
   ]
  },
  {
   "cell_type": "code",
   "execution_count": null,
   "metadata": {},
   "outputs": [],
   "source": [
    "for i,row in df_valid.iterrows():\n",
    "    shutil.copyfile(row['filename'],os.path.join('../yolo_dataset/valid/images', row['filename']))"
   ]
  },
  {
   "cell_type": "markdown",
   "metadata": {},
   "source": [
    "### Перевод разметки в yolo формат"
   ]
  },
  {
   "cell_type": "code",
   "execution_count": null,
   "metadata": {},
   "outputs": [],
   "source": [
    "for i,row in df.iterrows():\n",
    "     \n",
    "    try:\n",
    "        img = cv2.imread(row['image'])\n",
    "        H,W,_ = img.shape\n",
    "    except Exception:\n",
    "        continue\n",
    " \n",
    "    width = (row['xmax']-row['xmin'])/W\n",
    "    height = (row['ymax']-row['ymin'])/H\n",
    "    x_center = (row['xmax']+row['xmin'])/2/W\n",
    "    y_center = (row['ymax']+row['ymin'])/2/H\n",
    " \n",
    "    with open(os.path.join('../yolo_dataset/train/labels/', f\"{row['image'].split('.')[0]}.txt\"), \"a\") as file:\n",
    "        file.write(f\"0 {x_center} {y_center} {width} {height} \\n\")\n",
    "    "
   ]
  },
  {
   "cell_type": "markdown",
   "metadata": {},
   "source": [
    "### Обучение модели"
   ]
  },
  {
   "cell_type": "code",
   "execution_count": null,
   "metadata": {},
   "outputs": [],
   "source": [
    "from ultralytics import YOLO\n",
    "import os \n",
    "os.chdir('/home/vlad/projects/Complex_Systems/')\n",
    "\n",
    "model = YOLO(\"yolo11n.pt\")   \n",
    " \n",
    "results = model.train(data=\"./data/yolo_dataset/dataset.yaml\", epochs=100, imgsz=640)"
   ]
  },
  {
   "cell_type": "code",
   "execution_count": null,
   "metadata": {},
   "outputs": [],
   "source": [
    "model = YOLO(\"yolo11s.pt\")   \n",
    " \n",
    "results = model.train(data=\"./data/yolo_dataset/dataset.yaml\", epochs=100, imgsz=640)"
   ]
  }
 ],
 "metadata": {
  "kernelspec": {
   "display_name": "ml_cv",
   "language": "python",
   "name": "python3"
  },
  "language_info": {
   "codemirror_mode": {
    "name": "ipython",
    "version": 3
   },
   "file_extension": ".py",
   "mimetype": "text/x-python",
   "name": "python",
   "nbconvert_exporter": "python",
   "pygments_lexer": "ipython3",
   "version": "3.10.15"
  }
 },
 "nbformat": 4,
 "nbformat_minor": 2
}
